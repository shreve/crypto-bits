{
 "cells": [
  {
   "cell_type": "code",
   "execution_count": 1,
   "id": "e9004a11-f730-4267-886b-c59535986ffd",
   "metadata": {},
   "outputs": [
    {
     "data": {
      "text/html": [
       "<pre style=\"white-space:pre;overflow-x:auto;line-height:normal;font-family:Menlo,'DejaVu Sans Mono',consolas,'Courier New',monospace\">Manim Community <span style=\"color: #008000; text-decoration-color: #008000\">v0.15.2</span>\n",
       "\n",
       "</pre>\n"
      ],
      "text/plain": [
       "Manim Community \u001b[32mv0.\u001b[0m\u001b[32m15.2\u001b[0m\n",
       "\n"
      ]
     },
     "metadata": {},
     "output_type": "display_data"
    }
   ],
   "source": [
    "from manim import *\n",
    "from manim.utils.color import Colors\n",
    "import json\n",
    "\n",
    "def peek_conf(conf):\n",
    "    loaded = dict(conf)\n",
    "    want = lambda x: x[0].startswith((\"frame\", \"pixel\", \"aspect\"))\n",
    "    items = filter(want, loaded.items())\n",
    "    print(json.dumps(dict(items), indent=4))\n",
    "\n",
    "config.pixel_height = 854\n",
    "config.pixel_width = 480\n",
    "config.frame_height = 16\n",
    "config.frame_width = 9\n",
    "\n",
    "config.media_width = \"50%\"\n",
    "config.verbosity = \"WARNING\"\n",
    "config.frame_rate = 30\n",
    "config.background_color = \"#571857\" # Colors.purple_e.value\n",
    "\n",
    "FONT_NAME = \"Futura\"\n",
    "\n",
    "DecimalNumber.set_default(mob_class=Text)\n",
    "Text.set_default(font=FONT_NAME, weight=\"NORMAL\", font_size=32)\n",
    "Paragraph.set_default(font=FONT_NAME, weight=\"NORMAL\")\n",
    "\n",
    "tex_config = TexTemplate(\n",
    "    tex_compiler=\"xelatex\",\n",
    "    output_format=\".pdf\",\n",
    "    preamble=(\n",
    "        \"\\\\usepackage[english]{babel}\"\n",
    "        \"\\\\usepackage{amsmath}\"\n",
    "        \"\\\\usepackage{amssymb}\"\n",
    "        \"\\\\usepackage{fontspec}\"\n",
    "        \"\\\\setmainfont{\" + FONT_NAME + \"}[BoldFont={* Bold}]\"\n",
    "    )\n",
    ")\n",
    "Tex.set_default(tex_template=tex_config)\n",
    "MathTex.set_default(tex_template=tex_config)\n",
    "\n",
    "class TH(Tex):\n",
    "    pass\n",
    "\n",
    "TH.set_default(font_size=64)"
   ]
  },
  {
   "cell_type": "code",
   "execution_count": 3,
   "id": "472f1c38-ff33-42a4-8302-cb55bb4bc19d",
   "metadata": {},
   "outputs": [
    {
     "name": "stderr",
     "output_type": "stream",
     "text": [
      "                                                                                    \r"
     ]
    },
    {
     "data": {
      "text/html": [
       "<video src=\"media/jupyter/ShowScreenResolution@2022-05-30@03-29-02.mp4\" controls autoplay loop style=\"max-width: 50%;\"  >\n",
       "      Your browser does not support the <code>video</code> element.\n",
       "    </video>"
      ],
      "text/plain": [
       "<IPython.core.display.Video object>"
      ]
     },
     "metadata": {},
     "output_type": "display_data"
    }
   ],
   "source": [
    "%%manim ShowScreenResolution\n",
    "\n",
    "\n",
    "class ShowScreenResolution(Scene):\n",
    "    def construct(self):\n",
    "        t0 = Table(\n",
    "            [\n",
    "                [\"1\", \"1\", \"0\"],\n",
    "                [\"0\", \"0\", \"0\"],\n",
    "                [\"1\", \"0\", \"1\"],\n",
    "                [\"0\", \"1\", \"1\"]\n",
    "            ],\n",
    "            col_labels=[TH(\"\\\\bf A\"), TH(\"\\\\bf B\"), TH(\"\\\\bf A $\\oplus$ B\")],\n",
    "            element_to_mobject=Tex,\n",
    "        )\n",
    "        title = Text(\"XOR\", font_size=72, weight=\"BOLD\")\n",
    "        self.play(title.animate.shift(UP * 5))\n",
    "        self.play(Create(t0, lag_ratio=0))\n",
    "        self.pause()\n",
    "        self.play(Uncreate(t0, lag_ratio=0))\n",
    "        self.play(title.animate.shift(DOWN * 5))\n",
    "        self.pause()"
   ]
  },
  {
   "cell_type": "code",
   "execution_count": 6,
   "id": "5401f209-8006-4c2c-9971-efe64b322dc6",
   "metadata": {},
   "outputs": [
    {
     "name": "stdout",
     "output_type": "stream",
     "text": [
      "THIN\n",
      "ULTRALIGHT\n",
      "LIGHT\n",
      "BOOK\n",
      "NORMAL\n",
      "MEDIUM\n",
      "SEMIBOLD\n",
      "BOLD\n",
      "ULTRABOLD\n",
      "HEAVY\n",
      "ULTRAHEAVY\n"
     ]
    }
   ],
   "source": [
    "import manimpango\n",
    "\n",
    "weight_list = dict(\n",
    "            sorted(\n",
    "                {\n",
    "                    weight: manimpango.Weight(weight).value\n",
    "                    for weight in manimpango.Weight\n",
    "                }.items(),\n",
    "                key=lambda x: x[1],\n",
    "            )\n",
    "        )\n",
    "\n",
    "for weight in weight_list:\n",
    "    print(weight.name)"
   ]
  }
 ],
 "metadata": {
  "kernelspec": {
   "display_name": "Python 3 (ipykernel)",
   "language": "python",
   "name": "python3"
  },
  "language_info": {
   "codemirror_mode": {
    "name": "ipython",
    "version": 3
   },
   "file_extension": ".py",
   "mimetype": "text/x-python",
   "name": "python",
   "nbconvert_exporter": "python",
   "pygments_lexer": "ipython3",
   "version": "3.8.13"
  }
 },
 "nbformat": 4,
 "nbformat_minor": 5
}
